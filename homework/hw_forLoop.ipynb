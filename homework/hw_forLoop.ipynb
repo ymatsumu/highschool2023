{
 "cells": [
  {
   "attachments": {},
   "cell_type": "markdown",
   "metadata": {},
   "source": [
    "Q1. \\\n",
    "For each number in ```numList```, print the number if it is bigger than or equal to 5 using a for loop."
   ]
  },
  {
   "cell_type": "code",
   "execution_count": 1,
   "metadata": {},
   "outputs": [
    {
     "name": "stdout",
     "output_type": "stream",
     "text": [
      "5\n",
      "9\n",
      "8\n",
      "7\n",
      "5\n"
     ]
    }
   ],
   "source": [
    "# Sophia L\n",
    "numList = [5, 9, 8, 7, 1, 4, 5]\n",
    "for num in numList:\n",
    "    if num >= 5:\n",
    "        print(num)"
   ]
  },
  {
   "attachments": {},
   "cell_type": "markdown",
   "metadata": {},
   "source": [
    "Q2. \\\n",
    "Create a list that containes six colors and a for loop that prints each color."
   ]
  },
  {
   "cell_type": "code",
   "execution_count": 1,
   "metadata": {},
   "outputs": [],
   "source": [
    "# add your name here\n",
    "colors = []"
   ]
  },
  {
   "attachments": {},
   "cell_type": "markdown",
   "metadata": {},
   "source": [
    "Q3. \\\n",
    "Create a function that takes in an array of numbers, add 4 to each of the number using a for loop, and returns the numbers."
   ]
  },
  {
   "cell_type": "code",
   "execution_count": 2,
   "metadata": {},
   "outputs": [],
   "source": [
    "# add your name here\n",
    "def add_4(imput_list):\n",
    "    pass"
   ]
  },
  {
   "attachments": {},
   "cell_type": "markdown",
   "metadata": {},
   "source": [
    "Q4. \\\n",
    "Create a function that takes in a list of numbers for x axis and y axis (two lists that are same length) and make a scatter plot using a for loop."
   ]
  },
  {
   "cell_type": "code",
   "execution_count": 3,
   "metadata": {},
   "outputs": [],
   "source": [
    "# add your name here\n",
    "\n",
    "import matplotlib.pyplot as plt\n",
    "\n",
    "def get_scatter_plot(list1, list2):\n",
    "    '''\n",
    "    list1: x axis\n",
    "    list2: y axis\n",
    "    '''\n",
    "    pass\n"
   ]
  },
  {
   "attachments": {},
   "cell_type": "markdown",
   "metadata": {},
   "source": [
    "Q5. \\\n",
    "Write a function that takes in a list and returns half the values on a new list.\n",
    "\n",
    "Example input: \\\n",
    "```[5, 6, 7, 8, 10]```\n",
    "\n",
    "Example output: \\\n",
    "```[2.5, 3.0, 3.5, 4.0, 5.0]```"
   ]
  },
  {
   "cell_type": "code",
   "execution_count": 4,
   "metadata": {},
   "outputs": [],
   "source": [
    "# add your name here\n",
    "\n",
    "def get_half(input_list):\n",
    "    new_list = []\n",
    "    "
   ]
  },
  {
   "attachments": {},
   "cell_type": "markdown",
   "metadata": {},
   "source": [
    "Q6. \\\n",
    "Write a function that takes in a list and returns double the values on a new list. The output can be either int or float.\n",
    "\n",
    "Example input: \\\n",
    "```[5, 6, 7, 8, 10]```\n",
    "\n",
    "Example output: \\\n",
    "```[10, 12, 14, 16, 20]```"
   ]
  },
  {
   "cell_type": "code",
   "execution_count": null,
   "metadata": {},
   "outputs": [],
   "source": [
    "# add your name here\n",
    "\n",
    "def get_double(input_list):\n",
    "    new_list = []"
   ]
  }
 ],
 "metadata": {
  "kernelspec": {
   "display_name": "tardis",
   "language": "python",
   "name": "python3"
  },
  "language_info": {
   "codemirror_mode": {
    "name": "ipython",
    "version": 3
   },
   "file_extension": ".py",
   "mimetype": "text/x-python",
   "name": "python",
   "nbconvert_exporter": "python",
   "pygments_lexer": "ipython3",
   "version": "3.10.8"
  },
  "orig_nbformat": 4
 },
 "nbformat": 4,
 "nbformat_minor": 2
}
