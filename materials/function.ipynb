{
 "cells": [
  {
   "attachments": {},
   "cell_type": "markdown",
   "metadata": {},
   "source": [
    "A function is helpful and you can run the code as many times as you want. Let's take a look at examples we went over on June 20. "
   ]
  },
  {
   "cell_type": "code",
   "execution_count": null,
   "metadata": {},
   "outputs": [],
   "source": [
    "def add_3(input): # define a function name. It is add_3 here.\n",
    "    result = input + 3 # do something \n",
    "    return result # return the outcome\n",
    "\n",
    "add_3(10) # this should return 13 (10 + 3 = 13)"
   ]
  },
  {
   "attachments": {},
   "cell_type": "markdown",
   "metadata": {},
   "source": [
    "You can also have multiple inputs as well. "
   ]
  },
  {
   "cell_type": "code",
   "execution_count": null,
   "metadata": {},
   "outputs": [],
   "source": [
    "def return_sum(num1, num2):\n",
    "    my_sum = num1 + num2 # remember to indent!\n",
    "    return my_sum \n",
    "\n",
    "return_sum(1, 5) # now you can use the function created outside the indentation"
   ]
  },
  {
   "attachments": {},
   "cell_type": "markdown",
   "metadata": {},
   "source": [
    "You can also have inputs that are string. Let's specify that an input should be a string using ``` ''' ```. This is a way to comment just like ``` # ```. It is simply for a human to see and conputer does not do anything additional."
   ]
  },
  {
   "cell_type": "code",
   "execution_count": null,
   "metadata": {},
   "outputs": [],
   "source": [
    "def greeting(name):\n",
    "    '''\n",
    "    input: string\n",
    "    '''\n",
    "    return print('Hello ' + name + ', how\\'s it going?')\n",
    "\n",
    "greeting('Sophia')"
   ]
  },
  {
   "attachments": {},
   "cell_type": "markdown",
   "metadata": {},
   "source": [
    "```.format()``` is helpful too. Let's take a look at how we can use it in a string. "
   ]
  },
  {
   "cell_type": "code",
   "execution_count": null,
   "metadata": {},
   "outputs": [],
   "source": [
    "def introduction(name, age, eye_color, animal):\n",
    "    result = 'Hello, I am {a} and I am {b} years old. I have {c} eyes and my favorite animal is a {d}.'.format(\n",
    "        a=name,\n",
    "        b=age,\n",
    "        c=eye_color,\n",
    "        d=animal\n",
    "    )\n",
    "    return result\n",
    "\n",
    "# {} is like a place holder. "
   ]
  },
  {
   "cell_type": "code",
   "execution_count": null,
   "metadata": {},
   "outputs": [],
   "source": [
    "# ok. let's call the function created in a cell above. \n",
    "\n",
    "introduction(\"Mike\", \"30\", \"blue\", \"dog\") # recall that you can use single or double quotes!"
   ]
  },
  {
   "cell_type": "code",
   "execution_count": null,
   "metadata": {},
   "outputs": [],
   "source": [
    "# we can call the same function however many times you want.\n",
    "\n",
    "introduction('Sara', '14', 'brown', 'horse')"
   ]
  },
  {
   "attachments": {},
   "cell_type": "markdown",
   "metadata": {},
   "source": [
    "## Homework\n",
    "\n",
    "Below are the same problems I emailed to you. \n",
    "\n",
    "Q1. \\\n",
    "Write a function that takes in five different numbers and returns the sum."
   ]
  },
  {
   "cell_type": "code",
   "execution_count": 2,
   "metadata": {},
   "outputs": [],
   "source": [
    "def fiveNumbersSum(num1, num2, num3, num4, num5):\n",
    "    return num1 + num2 + num3 + num4 + num5"
   ]
  },
  {
   "attachments": {},
   "cell_type": "markdown",
   "metadata": {},
   "source": [
    "Q2. \\\n",
    "Write a function that takes in five different numbers and returns the sum IF the sum is more less or equal to 100. Otherwise, return a string ```'The result is bigger than 100!'```"
   ]
  },
  {
   "cell_type": "code",
   "execution_count": 3,
   "metadata": {},
   "outputs": [],
   "source": [
    "def fiveNumbersSum2(num1, num2, num3, num4, num5):\n",
    "    result = num1 + num2 + num3 + num4 + num5\n",
    "    if result <= 100:\n",
    "        return result\n",
    "    else:\n",
    "        return print('The result is bigger than 100!')"
   ]
  },
  {
   "cell_type": "code",
   "execution_count": 4,
   "metadata": {},
   "outputs": [
    {
     "name": "stdout",
     "output_type": "stream",
     "text": [
      "The result is bigger than 100!\n"
     ]
    }
   ],
   "source": [
    "fiveNumbersSum2(100, 1, 2, 1, 2)"
   ]
  },
  {
   "attachments": {},
   "cell_type": "markdown",
   "metadata": {},
   "source": [
    "Q3. \\\n",
    "Write a function that takes in 3 numbers and returns the product IF the product is an even number. Otherwise, return a string ```'The result is an odd number!'```"
   ]
  },
  {
   "cell_type": "code",
   "execution_count": null,
   "metadata": {},
   "outputs": [],
   "source": [
    "def is_even(num1, num2, num3):\n",
    "    pass"
   ]
  },
  {
   "attachments": {},
   "cell_type": "markdown",
   "metadata": {},
   "source": [
    "Q4. \\\n",
    "Write a function that keeps dividing an input by 4 WHILE it is bigger than another input value and return the remainder."
   ]
  },
  {
   "cell_type": "code",
   "execution_count": null,
   "metadata": {},
   "outputs": [],
   "source": [
    "def find_reminder(divided, divisor):\n",
    "    pass"
   ]
  },
  {
   "cell_type": "code",
   "execution_count": null,
   "metadata": {},
   "outputs": [],
   "source": []
  },
  {
   "attachments": {},
   "cell_type": "markdown",
   "metadata": {},
   "source": [
    "Remember to separate homework from materials"
   ]
  },
  {
   "cell_type": "markdown",
   "metadata": {},
   "source": []
  }
 ],
 "metadata": {
  "kernelspec": {
   "display_name": "tardis",
   "language": "python",
   "name": "python3"
  },
  "language_info": {
   "codemirror_mode": {
    "name": "ipython",
    "version": 3
   },
   "file_extension": ".py",
   "mimetype": "text/x-python",
   "name": "python",
   "nbconvert_exporter": "python",
   "pygments_lexer": "ipython3",
   "version": "3.10.8"
  },
  "orig_nbformat": 4
 },
 "nbformat": 4,
 "nbformat_minor": 2
}
